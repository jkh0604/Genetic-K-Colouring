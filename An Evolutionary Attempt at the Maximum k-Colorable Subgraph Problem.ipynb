{
 "cells": [
  {
   "cell_type": "markdown",
   "id": "db8e0935",
   "metadata": {},
   "source": [
    "# An Evolutionary Attempt at the Maximum k-Colorable Subgraph Problem"
   ]
  },
  {
   "cell_type": "markdown",
   "id": "65c59a24",
   "metadata": {},
   "source": [
    "### Imports"
   ]
  },
  {
   "cell_type": "code",
   "execution_count": 59,
   "id": "498f21f0",
   "metadata": {},
   "outputs": [],
   "source": [
    "import random\n",
    "import time\n",
    "import matplotlib.pyplot as plt\n",
    "import networkx as nx\n",
    "import tracemalloc"
   ]
  },
  {
   "cell_type": "markdown",
   "id": "58fc57cb",
   "metadata": {},
   "source": [
    "The above 5 libraries are the main libraries of this implementation.\n",
    "\n",
    "**random** is used to help in various parts of this implementation.\n",
    "\n",
    "**time** is used to track the amount of time it will take to run.\n",
    "\n",
    "**matplotlib** is used for charting the fitnesses of our algorithm over generations.\n",
    "\n",
    "**networkx** is used for drawing our colored graph of the individual chromosome with the best fitness.\n",
    "\n",
    "**tracemalloc** is used to track the amount of memory is used to run."
   ]
  },
  {
   "cell_type": "markdown",
   "id": "4d6ec959",
   "metadata": {},
   "source": [
    "### Parameters"
   ]
  },
  {
   "cell_type": "code",
   "execution_count": 60,
   "id": "d9201c02",
   "metadata": {},
   "outputs": [],
   "source": [
    "start_time = time.time()\n",
    "pop_size = 50\n",
    "generations = 100\n",
    "mutation_rate = 0.05\n",
    "k = 4"
   ]
  },
  {
   "cell_type": "markdown",
   "id": "82833241",
   "metadata": {},
   "source": [
    "The parameters required to run the code. \n",
    "\n",
    "***start_time*** is used to commence the timer\n",
    "\n",
    "***pop_size*** is used as the limit of the population size. 50 was standard throughout all research thus this rate will remain the same.\n",
    "\n",
    "***generations*** is used as the maximum amount of generations that we will iterate through. This value is rather 100 or 2000 throughout all testing.\n",
    "\n",
    "***mutation_rate*** is the rate of mutation, which varies between rather 0.05 or 0.08 in all testing.\n",
    "\n",
    "***k*** the number of colors. The k in ***Maximum k-Colorable Subgraph Problem***."
   ]
  },
  {
   "cell_type": "markdown",
   "id": "e3ff1f6f",
   "metadata": {},
   "source": [
    "### Graphs"
   ]
  },
  {
   "cell_type": "markdown",
   "id": "64359ee3",
   "metadata": {},
   "source": [
    "There are multiple graphs of various sizes and connectivity that can be used for evaluation. For best functionality large and complex graphs will not be included in this notebook. Refer to meEvo.py for many dictionary of lists of more graphs."
   ]
  },
  {
   "cell_type": "code",
   "execution_count": 61,
   "id": "45479660",
   "metadata": {},
   "outputs": [],
   "source": [
    "graph = {\n",
    "    'A': ['B', 'C'],\n",
    "    'B': ['A', 'C', 'D'],\n",
    "    'C': ['A', 'B', 'D', 'E'],\n",
    "    'D': ['B', 'C', 'E', 'F'],\n",
    "    'E': ['C', 'D', 'F'],\n",
    "    'F': ['D', 'E']\n",
    "}"
   ]
  },
  {
   "cell_type": "code",
   "execution_count": 62,
   "id": "a6eec9f9",
   "metadata": {},
   "outputs": [],
   "source": [
    "graph = { \n",
    "    'A': ['B', 'C', 'D', 'E', 'F'],\n",
    "    'B': ['A', 'C', 'D', 'G', 'H'],\n",
    "    'C': ['A', 'B', 'D', 'I', 'J'],\n",
    "    'D': ['A', 'B', 'C', 'K', 'L'],\n",
    "    'E': ['A', 'F', 'G', 'I', 'K'],\n",
    "    'F': ['A', 'E', 'H', 'J', 'L'],\n",
    "    'G': ['B', 'E', 'H', 'I', 'L'],\n",
    "    'H': ['B', 'F', 'G', 'J', 'K'],\n",
    "    'I': ['C', 'E', 'G', 'J', 'K'],\n",
    "    'J': ['C', 'F', 'H', 'I', 'L'],\n",
    "    'K': ['D', 'E', 'H', 'I', 'J'],\n",
    "    'L': ['D', 'F', 'G', 'J', 'K']\n",
    "}"
   ]
  },
  {
   "cell_type": "code",
   "execution_count": 63,
   "id": "fb1fcfe2",
   "metadata": {},
   "outputs": [],
   "source": [
    "graph = {\n",
    "    'A': ['B', 'D'],\n",
    "    'B': ['A', 'C', 'E'],\n",
    "    'C': ['B', 'E'],\n",
    "    'D': ['A', 'E', 'G'],\n",
    "    'E': ['D', 'H'],\n",
    "    'F': ['C', 'I'],\n",
    "    'G': ['D'],\n",
    "    'H': ['E', 'I', 'J'],\n",
    "    'I': ['F', 'H', 'K'],\n",
    "    'J': ['H'],\n",
    "    'K': ['I', 'L', 'M'],\n",
    "    'L': ['K', 'N'],\n",
    "    'M': ['K', 'N'],\n",
    "    'N': ['L','M', 'O', 'P'],\n",
    "    'O': ['N', 'Q'],\n",
    "    'P': ['N', 'Q'],\n",
    "    'Q': ['O', 'P', 'R', 'S'],\n",
    "    'R': ['Q', 'T'],\n",
    "    'S': ['Q'],\n",
    "    'T': ['R', 'U', 'V'],\n",
    "    'U': ['T', 'W'],\n",
    "    'V': ['T', 'X'],\n",
    "    'W': ['U', 'Y'],\n",
    "    'X': ['V', 'Y'],\n",
    "    'Y': ['X', 'W']\n",
    "}"
   ]
  },
  {
   "cell_type": "markdown",
   "id": "2aa2b3dd",
   "metadata": {},
   "source": [
    "### Generate Population"
   ]
  },
  {
   "cell_type": "code",
   "execution_count": 64,
   "id": "b6ea0c89",
   "metadata": {},
   "outputs": [],
   "source": [
    "population = []\n",
    "for i in range(pop_size):\n",
    "    individual = {}\n",
    "    for vertex in graph:\n",
    "        individual[vertex] = random.randint(1, k)\n",
    "    population.append(individual)\n",
    "    \n",
    "def app(): #Required for tracemalloc\n",
    "    lt = []\n",
    "    for i in range(0, 100000):\n",
    "        lt.append(i)"
   ]
  },
  {
   "cell_type": "markdown",
   "id": "21182a77",
   "metadata": {},
   "source": [
    "The above code generates our initial population by selecting a random coloring per each individual chromosome.\n",
    "\n",
    "The app function is a requirement to track the Memory Usage of our algorithm."
   ]
  },
  {
   "cell_type": "markdown",
   "id": "66ee3bbf",
   "metadata": {},
   "source": [
    "### Fitness"
   ]
  },
  {
   "cell_type": "code",
   "execution_count": 65,
   "id": "125a6348",
   "metadata": {},
   "outputs": [],
   "source": [
    "def fitness(individual):\n",
    "    conflicts = 0\n",
    "    for vertex in graph:\n",
    "        color = individual[vertex]\n",
    "        for neighbor in graph[vertex]:\n",
    "            if individual[neighbor] == color:\n",
    "                conflicts += 1\n",
    "    return -conflicts"
   ]
  },
  {
   "cell_type": "markdown",
   "id": "7e14d201",
   "metadata": {},
   "source": [
    "The fitness of an individual is defined by the amount of adjacent color conflicts that can be found. If there is a color conflict of two adjacent nodes typically it will result in 2 conflicts (one going each way). The function returns the amount of conflicts as a negative number because 0 will always be the maximum fitness score, meaning we need a value less than that for the conflicts."
   ]
  },
  {
   "cell_type": "markdown",
   "id": "2209c12e",
   "metadata": {},
   "source": [
    "### Tournament Selection"
   ]
  },
  {
   "cell_type": "code",
   "execution_count": 66,
   "id": "0ff6c33b",
   "metadata": {},
   "outputs": [],
   "source": [
    "def selection(population):\n",
    "    tournament_size = 5\n",
    "    tournament = random.sample(population, tournament_size)\n",
    "    tournament.sort(key = lambda x: fitness(x))\n",
    "    return tournament[-1]"
   ]
  },
  {
   "cell_type": "markdown",
   "id": "a44959f9",
   "metadata": {},
   "source": [
    "The selection function used is a ***tournament selection*** that will select 5 random participants from the population and sort the participants of the tournament by their fitness, and then return the individual chromosome with the best fitness in the subset.\n",
    "\n",
    "Helps ensure diversity amongst the population while preventing premature convergence."
   ]
  },
  {
   "cell_type": "markdown",
   "id": "394b21f0",
   "metadata": {},
   "source": [
    "### Elitism Selection"
   ]
  },
  {
   "cell_type": "code",
   "execution_count": 67,
   "id": "10ecc5ec",
   "metadata": {},
   "outputs": [],
   "source": [
    "def elitism(population):\n",
    "    population.sort(key = lambda x: fitness(x))\n",
    "    return population[:int(0.1 * pop_size)]"
   ]
  },
  {
   "cell_type": "markdown",
   "id": "86c69684",
   "metadata": {},
   "source": [
    "Inspired by the design of Musa Hindi and Roman Yampolskiy's genetic algorithm with two separate selection methods, I opted to also use a second form of selection.\n",
    "\n",
    "The ***Elitism Selection*** function sorts the population by their fitnesses and returns only the top 10% of the population so that we can preserve the best solutions thus far. It is used in tandem with the Tournament Selection so that we can keep some of the best individual chromosomes from the previous generation in the next generation."
   ]
  },
  {
   "cell_type": "markdown",
   "id": "83b30c1c",
   "metadata": {},
   "source": [
    "### 2-Point Crossover"
   ]
  },
  {
   "cell_type": "code",
   "execution_count": 68,
   "id": "5f860586",
   "metadata": {},
   "outputs": [],
   "source": [
    "def crossover(parent1, parent2):\n",
    "    k = 2\n",
    "    crossover_points = sorted(random.sample(range(len(graph)), k))\n",
    "    child = {}\n",
    "    for i in range(len(graph)):\n",
    "        if i < crossover_points[0]:\n",
    "            child[list(graph.keys())[i]] = parent1[list(graph.keys())[i]]\n",
    "        elif i < crossover_points[1]:\n",
    "            child[list(graph.keys())[i]] = parent2[list(graph.keys())[i]]\n",
    "        else:\n",
    "            child[list(graph.keys())[i]] = parent1[list(graph.keys())[i]]\n",
    "    return child"
   ]
  },
  {
   "cell_type": "markdown",
   "id": "f4ca09e6",
   "metadata": {},
   "source": [
    "This crossover function is a ***k-Point Crossover*** implementation, however after seeing the strength of 2-group genetic algorithms in the Maximum k-Colorable Subgraph Problem k was elected to stay 2 for testing. We assign two random crossover points and sort them in ascending order. A child will then inherit from a parent depending on where  in the graph it is. If the node is within the 2 points then it will inherit from the second parent, otherwise it will always be from the first parent.\n",
    "\n",
    "Inherits fundamentals of the Grouping Genetic Algorithm in regards to it's crossover, without using the Object:Group structure so we can improve solution quality without requiring the additional memory usage of creating and comparing groupings."
   ]
  },
  {
   "cell_type": "markdown",
   "id": "ae58fb3b",
   "metadata": {},
   "source": [
    "### Mutation"
   ]
  },
  {
   "cell_type": "code",
   "execution_count": 69,
   "id": "511f2663",
   "metadata": {},
   "outputs": [],
   "source": [
    "def mutation(individual):\n",
    "    vertex = random.choice(list(individual.keys()))\n",
    "    individual[vertex] = random.randint(1, k)\n",
    "    return individual\n",
    "\n",
    "#\"\"\"def mutation(individual, mutation_rate):\n",
    " #   vertex = random.choice(list(individual.keys()))\n",
    "  #  if random.random() < mutation_rate:\n",
    "   #     individual[vertex] = random.randint(1, k) \n",
    "    #return individual \"\"\"\n",
    "    \n",
    "#in algorithm:\n",
    "#for i in range(num_generations):\n",
    "    #if i % 10 == 0:\n",
    "        #if improvement_rate < 0.01:\n",
    "            #mutation_prob *= 1.1 \n",
    "        #elif improvement_rate > 0.1:\n",
    "            #mutation_prob /= 1.1\n"
   ]
  },
  {
   "cell_type": "markdown",
   "id": "dce04068",
   "metadata": {},
   "source": [
    "The final operator of our algorithm. This mutation simply selects a random vertex from an individual chromosome, assigns a new random color to it, and returns the mutated individual.\n",
    "\n",
    "Though using an adaptive mutation function was the original goal to ensure better results in scenarios where the fitness was not near 0, the adaptive version did not make any noticeable difference in processing speed, amount of generations to find optimal solution, nor memory usage."
   ]
  },
  {
   "cell_type": "markdown",
   "id": "3c4ef727",
   "metadata": {},
   "source": [
    "### General Algorithm and Plotting Data"
   ]
  },
  {
   "cell_type": "code",
   "execution_count": 70,
   "id": "ea87b0cb",
   "metadata": {},
   "outputs": [
    {
     "name": "stdout",
     "output_type": "stream",
     "text": [
      "Local Optimal Solution found on iteration:  2\n",
      "Solution runtime: 0.18815922737121582 seconds \n",
      "Memory Block Usage:  71646\n",
      "Best Fitness:  0\n",
      "Maximum Subgraph Size:  25\n",
      "{'A': 2, 'B': 1, 'C': 2, 'D': 1, 'E': 4, 'F': 4, 'G': 2, 'H': 2, 'I': 3, 'J': 4, 'K': 4, 'L': 1, 'M': 2, 'N': 3, 'O': 1, 'P': 1, 'Q': 4, 'R': 2, 'S': 3, 'T': 1, 'U': 4, 'V': 3, 'W': 1, 'X': 1, 'Y': 3}\n"
     ]
    }
   ],
   "source": [
    "tracemalloc.start()\n",
    "best_fitnesses = []\n",
    "for iteration in range(generations):\n",
    "    parents = [selection(population) for i in range(pop_size)]\n",
    "    offspring = [crossover(parents[i], parents[i+1]) for i in range(0, pop_size, 2)]\n",
    "    offspring = [mutation(individual) for individual in offspring]\n",
    "    elite_population = elitism(population)\n",
    "    population = elite_population + offspring\n",
    "    fitnesses = [fitness(individual) for individual in population]\n",
    "    best_fitness = max(fitnesses)\n",
    "    best_fitnesses.append(best_fitness)\n",
    "    \n",
    "    \n",
    "    if best_fitness == 0: \n",
    "        best_individual = population[fitnesses.index(best_fitness)]\n",
    "        print(\"Local Optimal Solution found on iteration: \", iteration)\n",
    "        print(\"Solution runtime: %s seconds \" % (time.time() - start_time))\n",
    "        x, y = tracemalloc.get_traced_memory()\n",
    "        print(\"Memory Block Usage: \", y)\n",
    "        print(\"Best Fitness: \", best_fitness)\n",
    "        print(\"Maximum Subgraph Size: \", len(graph))\n",
    "        print(best_individual)\n",
    "        break\n",
    "    elif iteration == generations-1:\n",
    "        best_individual = population[fitnesses.index(best_fitness)]\n",
    "        print(\"All\", iteration, \"Iterations Ran\")\n",
    "        print(\"Solution Runtime: %s seconds \" % (time.time() - start_time))\n",
    "        x, y = tracemalloc.get_traced_memory()\n",
    "        print(\"Memory Block Usage: \", y)\n",
    "        print(\"Solution Fitness: \", best_fitness) #Removing half the amount of listed nodes would get the Maximum Subgraph Size\n",
    "        print(\"\\nWarning: Solution Fitness is less than 0 meaning Color Collision has been detected.\\n\")\n",
    "        print(best_individual)\n",
    "        size = len(graph)+(best_fitness/2)\n",
    "        if(best_fitness%2!=0):\n",
    "            size -= .5\n",
    "        print(\"Best Fitness: \", best_fitness)\n",
    "        print(\"Maximum Subgraph Size: \", size)\n",
    "        break"
   ]
  },
  {
   "cell_type": "markdown",
   "id": "09fc45f0",
   "metadata": {},
   "source": [
    "The code above simply brings together everyone of our functions as well as prints out information about the run.\n",
    "***tracemalloc*** starting allows for tracking of resources used in the algorithm.\n",
    "\n",
    "We then go through the basic steps of taking a population of parents and creating better offspring. "
   ]
  },
  {
   "cell_type": "code",
   "execution_count": 72,
   "id": "24c98e59",
   "metadata": {},
   "outputs": [
    {
     "data": {
      "image/png": "[encoded data removed]",
      "text/plain": [
       "<Figure size 432x288 with 1 Axes>"
      ]
     },
     "metadata": {
      "needs_background": "light"
     },
     "output_type": "display_data"
    },
    {
     "data": {
      "image/png": "[encoded data removed]",
      "text/plain": [
       "<Figure size 432x288 with 1 Axes>"
      ]
     },
     "metadata": {},
     "output_type": "display_data"
    }
   ],
   "source": [
    "plt.plot(best_fitnesses)\n",
    "plt.xlabel('Generation')\n",
    "plt.ylabel('Best fitness')\n",
    "plt.show()\n",
    "\n",
    "nx_graph = nx.Graph()\n",
    "nx_graph.add_nodes_from(graph.keys())\n",
    "for node, neighbors in graph.items():\n",
    "    for neighbor in neighbors:\n",
    "        nx_graph.add_edge(node, neighbor)\n",
    "\n",
    "node_colors = [best_individual[node] for node in nx_graph.nodes()]\n",
    "pos = nx.spring_layout(nx_graph)\n",
    "nx.draw(nx_graph, pos, node_color=node_colors, with_labels=True)\n",
    "plt.show()\n",
    "\n",
    "tracemalloc.stop()"
   ]
  },
  {
   "cell_type": "markdown",
   "id": "a94b4a57",
   "metadata": {},
   "source": [
    "Finally we have the ***matplotlib*** chart of fitnesses throughout the generations as well as using ***networkx*** to show the colored graph resulted from a best fitness solution.\n",
    "\n",
    "***tracemalloc*** is then stopped to properly end our program.\n",
    "\n",
    "***Networkx has an issue with Jupyter Notebook, thus the networkx coloring must be displayed by running myEvo.py***"
   ]
  },
  {
   "cell_type": "markdown",
   "id": "1ab171f9",
   "metadata": {},
   "source": [
    "## Results\n",
    "\n",
    "To best demonstrate how this algorithm performs, we will compare a generic genetic algorithm to our algorithm. We will then compare our algorithm to the algorithm created by Hindi and Yampolskiy. Unfortunately Hindi and Yampolskiy's implementation used  much more sophisticated (large, more connected) graphs than our algorithm, and thus we will only be able to show one main comparison, but the point gets across quite easily how much further optimized their approach is.\n",
    "\n",
    "#### Graph Size = 12, K = 4 (all nodes have 5 adjacent nodes), population size = 50, generations = 100\n",
    "\n",
    "### Generic Approach:\n",
    "<img src=\"generic1-1.png\" width=\"300\" title=\"generic\">\n",
    "<img src=\"generic1-2.png\" width=\"300\" title=\"generic2\">\n",
    "<img src=\"generic1-3.png\" width=\"300\" title=\"generic3\">\n",
    "\n",
    "### Developed Approach:\n",
    "<img src=\"myEvo1-1.png\" width=\"300\" title=\"myEvo\">\n",
    "<img src=\"myEvo1-2.png\" width=\"300\" title=\"myEvo2\">\n",
    "<img src=\"myEvo1-3.png\" width=\"300\" title=\"myEvo3\">\n",
    "\n",
    "#### Graph Size = 25, K = 4, population size = 50, generations = 100\n",
    "\n",
    "### Generic Approach:\n",
    "<img src=\"generic2-1.png\" width=\"300\" title=\"generic22\">\n",
    "<img src=\"generic2-2.png\" width=\"300\" title=\"generic23\">\n",
    "\n",
    "### Developed Approach:\n",
    "<img src=\"myEvo2-1.png\" width=\"300\" title=\"myEvo\">\n",
    "<img src=\"myEvo2-2.png\" width=\"300\" title=\"myEvo2\">\n",
    "\n",
    "#### Graph Size = 36, K = 7 (highly connected graph), population size = 50, generations = 20,000\n",
    "\n",
    "### Generic Approach:\n",
    "<img src=\"generic3-1.png\" width=\"300\" title=\"generic32\">\n",
    "<img src=\"generic3-2.png\" width=\"300\" title=\"generic33\">\n",
    "\n",
    "### Hindi and Yampolskiy's Approach:\n",
    "<img src=\"queen6Original1.png\" width=\"300\" title=\"queen\">\n",
    "<img src=\"queen6Original2.png\" width=\"300\" title=\"queen2\">\n",
    "<img src=\"queen6Original3.png\" width=\"300\" title=\"queen3\">\n",
    "\n",
    "### Developed Approach:\n",
    "<img src=\"queens6Results1.png\" width=\"300\" title=\"myqueen\">\n",
    "<img src=\"queens6Results2.png\" width=\"300\" title=\"myqueen2\">\n",
    "<img src=\"queens6Results3.png\" width=\"600\" title=\"myqueen3\">\n"
   ]
  },
  {
   "cell_type": "markdown",
   "id": "977f93f4",
   "metadata": {},
   "source": [
    "As we can see, the developed algorithm is able to significantly outperform the generic algorithm without much effort, and although it was able to create the same fitness as Hindi and Yampolski's, they were able to defeat our algorithm significantly in processing time as well as by beating us to finding the solution by approximately 200 generations."
   ]
  },
  {
   "cell_type": "markdown",
   "id": "b5b902c2",
   "metadata": {},
   "source": [
    "## Conclusion\n",
    "\n",
    "Although we were able to create a simple Evolutionary Algorithm that is able to complete with other modern approaches, however this is not the best algorithm available. It is able to give improved solutions over the span of an assigned amount of generations, however it is still able to get stuck on local optimum solutions more than the design of Hindi and Yampolski.\n",
    "\n",
    "#### Developed Approach works well with connected graphs up to 150 nodes and highly connected graphs up to 40 nodes:\n",
    "<img src=\"fin1.png\" width=\"300\" title=\"new1\">\n",
    "<img src=\"fin2.png\" width=\"300\" title=\"new2\">\n",
    "<img src=\"fin3.png\" width=\"600\" title=\"new3\">\n",
    "\n",
    "To improve upon this solution the best first step would be to find a more suitable adaptive mutation function to ensure that mutation is happening more often as we begin to stop improving and looking into other implementations of crossover to see what can be done."
   ]
  },
  {
   "cell_type": "code",
   "execution_count": null,
   "id": "9866b5bf",
   "metadata": {},
   "outputs": [],
   "source": []
  }
 ],
 "metadata": {
  "kernelspec": {
   "display_name": "Python 3",
   "language": "python",
   "name": "python3"
  },
  "language_info": {
   "codemirror_mode": {
    "name": "ipython",
    "version": 3
   },
   "file_extension": ".py",
   "mimetype": "text/x-python",
   "name": "python",
   "nbconvert_exporter": "python",
   "pygments_lexer": "ipython3",
   "version": "3.6.13"
  }
 },
 "nbformat": 4,
 "nbformat_minor": 5
}
